{
 "cells": [
  {
   "cell_type": "markdown",
   "id": "92d2300d-021c-4d1a-9714-08452a0824df",
   "metadata": {},
   "source": [
    "# Experiment Setup\n",
    "This is the setup used for the experiments shown in the project"
   ]
  },
  {
   "cell_type": "code",
   "execution_count": 1,
   "id": "64e041c0-4c9e-4640-9b19-0a7a3031a3da",
   "metadata": {},
   "outputs": [],
   "source": [
    "import numpy as np\n",
    "import laserhockey.hockey_env as h_env\n",
    "import gymnasium as gym\n",
    "from importlib import reload\n",
    "from TD3_helpers import *\n",
    "import time\n",
    "import torch\n",
    "import DDPG\n",
    "import TD3\n",
    "import os\n",
    "import matplotlib.pyplot as plt\n",
    "from tqdm import tqdm\n",
    "import pickle"
   ]
  },
  {
   "cell_type": "code",
   "execution_count": 2,
   "id": "eb840b09-a9c9-41fe-94d2-bfab985004cf",
   "metadata": {},
   "outputs": [],
   "source": [
    "start_config = {\n",
    "    \"name\" : \"name\",\n",
    "    \"agent_type\" : \"TD3\",\n",
    "    \"env_type\" : \"hockey\",\n",
    "    \"test\" : False,\n",
    "    \"render\" : False,\n",
    "    \"episodes\" : 1000,\n",
    "    \"max_steps\" : int(1e5),\n",
    "    \"mode\" : \"normal\",\n",
    "    \"eps\" : 0.1,\n",
    "    \"discount\":0.99,\n",
    "    \"update_target_every\":100,\n",
    "    \"update_policy_every\":2,\n",
    "    \"hidden_sizes_actor\" : [256,256],\n",
    "    \"hidden_sizes_critic\" : [256,256],\n",
    "    \"iter_fit\" : 1,\n",
    "    \"batch_size\" : 256,\n",
    "    \"smoothing_std\"  : 0.0001,\n",
    "    \"smoothing_clip\" : 0.0002,\n",
    "    \"checkpoint1\" : None,\n",
    "    \"checkpoint2\" : None,\n",
    "    \"learning_rate_critic\": 0.001,\n",
    "    \"learning_rate_actor\": 0.001,\n",
    "    \"buffer_size\" : int(1e6),\n",
    "    \"theta\" : 0.005,\n",
    "    \"prio_replay\" : False,\n",
    "    \"exp_phase\" : 0,\n",
    "    \"cdq\" : True,\n",
    "    \"ou\" : False\n",
    "}\n",
    "# lr of 0.0001 for both seems to work best for hockey\n",
    "# lr 0.001 for pendulum\n",
    "# iter_fit 40 for walker, 20 for rest\n",
    "# eps 0.1 seems to be best\n",
    "# discount 1 shows best results (winning later isn't worse than earlier?)\n",
    "# 20 iterations with policy delay 2 best for hockey\n",
    "# ou noise better for hockey\n",
    "###\n",
    "# N noise\n",
    "# prio replay\n",
    "# lr 0.0005 for both"
   ]
  },
  {
   "cell_type": "code",
   "execution_count": 7,
   "id": "38b111bb-aa82-4421-93f0-54d5b21365bb",
   "metadata": {},
   "outputs": [
    {
     "name": "stdout",
     "output_type": "stream",
     "text": [
      "TD3\n"
     ]
    },
    {
     "name": "stderr",
     "output_type": "stream",
     "text": [
      "Testing...:  12%|\u001b[32m██████▊                                                 \u001b[0m| 122653/1000000 [01:11<08:29, 1722.00steps/s]\u001b[0m\n"
     ]
    },
    {
     "name": "stdout",
     "output_type": "stream",
     "text": [
      "Wins: 507\n",
      "Losses: 269\n",
      "Draws: 224\n",
      "W/L: 1.8847583643122676\n",
      "DDPG\n"
     ]
    },
    {
     "name": "stderr",
     "output_type": "stream",
     "text": [
      "Testing...:  12%|\u001b[32m██████▌                                                 \u001b[0m| 116720/1000000 [01:04<08:04, 1822.07steps/s]\u001b[0m\n"
     ]
    },
    {
     "name": "stdout",
     "output_type": "stream",
     "text": [
      "Wins: 504\n",
      "Losses: 299\n",
      "Draws: 197\n",
      "W/L: 1.68561872909699\n",
      "DPU\n"
     ]
    },
    {
     "name": "stderr",
     "output_type": "stream",
     "text": [
      "Testing...:  12%|\u001b[32m██████▉                                                 \u001b[0m| 124829/1000000 [01:08<07:57, 1834.26steps/s]\u001b[0m\n"
     ]
    },
    {
     "name": "stdout",
     "output_type": "stream",
     "text": [
      "Wins: 469\n",
      "Losses: 296\n",
      "Draws: 235\n",
      "W/L: 1.5844594594594594\n",
      "TPS\n"
     ]
    },
    {
     "name": "stderr",
     "output_type": "stream",
     "text": [
      "Testing...:  12%|\u001b[32m██████▋                                                 \u001b[0m| 118487/1000000 [00:59<07:24, 1981.29steps/s]\u001b[0m\n"
     ]
    },
    {
     "name": "stdout",
     "output_type": "stream",
     "text": [
      "Wins: 494\n",
      "Losses: 299\n",
      "Draws: 207\n",
      "W/L: 1.6521739130434783\n",
      "CDQ\n"
     ]
    },
    {
     "name": "stderr",
     "output_type": "stream",
     "text": [
      "Testing...:  12%|\u001b[32m██████▉                                                 \u001b[0m| 124578/1000000 [01:06<07:44, 1884.72steps/s]\u001b[0m"
     ]
    },
    {
     "name": "stdout",
     "output_type": "stream",
     "text": [
      "Wins: 477\n",
      "Losses: 294\n",
      "Draws: 229\n",
      "W/L: 1.6224489795918366\n"
     ]
    },
    {
     "name": "stderr",
     "output_type": "stream",
     "text": [
      "\n"
     ]
    }
   ],
   "source": [
    "### WIN/LOSS/DRAW EVALUATION OF AGENTS IN HOCKEY - WEAK ###\n",
    "for agent_type in [\"TD3\", \"DDPG\", \"DPU\", \"TPS\", \"CDQ\"]:\n",
    "    print(agent_type)\n",
    "    config = start_config.copy()\n",
    "    config[\"mode\"] = \"weak\"\n",
    "    #config[\"agent_type\"] = \"TD3\"\n",
    "    config[\"name\"] = \"fixedactionscompare\"\n",
    "    config[\"checkpoint1\"] = f'./results/{config[\"agent_type\"]}_hockey_{config[\"name\"]}_{config[\"mode\"]}_agent.pth'\n",
    "    config[\"test\"] = True\n",
    "    init_train(config)"
   ]
  },
  {
   "cell_type": "code",
   "execution_count": null,
   "id": "00a72c71-8be0-4134-8422-00072b91c6ba",
   "metadata": {},
   "outputs": [],
   "source": [
    "### WEAK EXPERIMENT ###\n",
    "for agent_type in [\"TD3\", \"DDPG\", \"DPU\", \"TPS\", \"CDQ\"]:\n",
    "    print(\"AGENT\", agent_type)\n",
    "    \n",
    "    config[\"discount\"] = 0.99\n",
    "    config[\"ou\"] = False\n",
    "    config[\"test\"] = False\n",
    "    config[\"learning_rate_critic\"] = 0.001\n",
    "    config[\"learning_rate_actor\"] = 0.001\n",
    "    config[\"smoothing_std\"] = 0.0001\n",
    "    config[\"smoothing_clip\"] = 0.0002\n",
    "    config[\"exp_phase\"] = int(2e3)\n",
    "    config[\"episodes\"] = 1000\n",
    "    config[\"max_steps\"] = int(2e5)\n",
    "    config[\"agent_type\"] = agent_type\n",
    "    config[\"env_type\"] = \"hockey\"\n",
    "    config[\"mode\"] = \"weak\"\n",
    "    config[\"prio_replay\"] = True\n",
    "    config[\"name\"] = \"hockey_rerun\"\n",
    "    init_train(config)\n",
    "    config[\"checkpoint1\"] = f'./results/{config[\"agent_type\"]}_hockey_{config[\"name\"]}_{config[\"mode\"]}_agent.pth'\n",
    "    config[\"test\"] = True\n",
    "    init_train(config)"
   ]
  },
  {
   "cell_type": "code",
   "execution_count": null,
   "id": "64339f0a-553e-4898-aab9-849c9a508749",
   "metadata": {},
   "outputs": [],
   "source": [
    "### PENDULUM EXPERIMENT ###\n",
    "for agent_type in [\"TD3\", \"DDPG\", \"DPU\", \"TPS\", \"CDQ\"]:\n",
    "    print(\"AGENT\", agent_type)\n",
    "    config = start_config.copy()\n",
    "    config[\"discount\"] = 0.99\n",
    "    config[\"episodes\"] = 50\n",
    "    config[\"max_steps\"] = int(1e4)\n",
    "    config[\"exp_phase\"] = 0\n",
    "    config[\"hidden_sizes_critic\"] = [32,32]\n",
    "    config[\"hidden_sizes_actor\"] = [32,32]\n",
    "    config[\"learning_rate_critic\"] = 0.001\n",
    "    config[\"learning_rate_actor\"] = 0.001\n",
    "    config[\"agent_type\"] = agent_type\n",
    "    config[\"env_type\"] = \"pendulum\"\n",
    "    config[\"name\"] = \"pendulum_rerun\"\n",
    "    init_train(config)"
   ]
  },
  {
   "cell_type": "code",
   "execution_count": null,
   "id": "b35c8014-18ba-4b29-840a-7897db7b0c49",
   "metadata": {},
   "outputs": [],
   "source": [
    "### CHEETAH EXPERIMENT ###\n",
    "for agent_type in [\"DDPG\", \"TD3\", \"DPU\", \"TPS\", \"CDQ\"]:\n",
    "    print(\"AGENT\", agent_type)\n",
    "    config = start_config.copy()\n",
    "    config[\"discount\"] = 0.99\n",
    "    config[\"episodes\"] = 200\n",
    "    config[\"exp_phase\"] = 2000\n",
    "    config[\"max_steps\"] = int(1e5)\n",
    "    config[\"learning_rate_critic\"] = 0.001\n",
    "    config[\"learning_rate_actor\"] = 0.001\n",
    "    config[\"agent_type\"] = agent_type\n",
    "    config[\"env_type\"] = \"cheetah_rerun\"\n",
    "    config[\"name\"] = \"agentcompare\"\n",
    "    init_train(config)"
   ]
  },
  {
   "cell_type": "markdown",
   "id": "55722e47-77c2-4a75-b326-fcce5ef7d130",
   "metadata": {},
   "source": [
    "##### WALKER EXPERIMENT ###\n",
    "for agent_type in [\"CDQ\", \"TD3\"]:\n",
    "    print(\"AGENT\", agent_type)\n",
    "    config = start_config.copy()\n",
    "    config[\"episodes\"] = 500\n",
    "    config[\"exp_phase\"] = 50\n",
    "    config[\"max_steps\"] = int(2e5)\n",
    "    config[\"learning_rate_critic\"] = 0.001\n",
    "    config[\"learning_rate_actor\"] = 0.001\n",
    "    config[\"agent_type\"] = agent_type\n",
    "    config[\"env_type\"] = \"walker\"\n",
    "    config[\"name\"] = \"walker_rerun\"\n",
    "    init_train(config)\n",
    "    config[\"checkpoint1\"] = f'./results/{config[\"agent_type\"]}_{config[\"env_type\"]}_{config[\"name\"]}_{config[\"mode\"]}_agent.pth'"
   ]
  },
  {
   "cell_type": "markdown",
   "id": "52241f20-b70c-4d94-8052-1f28622a8435",
   "metadata": {},
   "source": [
    "# AFTER THIS NOT USED IN PROJECT!!!"
   ]
  },
  {
   "cell_type": "code",
   "execution_count": null,
   "id": "e55212b8-bfeb-42e7-a082-f19130ad2856",
   "metadata": {},
   "outputs": [],
   "source": [
    "### NORMAL EXPERIMENT ###\n",
    "for agent_type in [\"TD3\", \"DDPG\", \"DPU\", \"TPS\", \"CDQ\"]:\n",
    "    print(\"AGENT\", agent_type)\n",
    "    config = start_config.copy()\n",
    "    config[\"discount\"] = 0.99\n",
    "    config[\"learning_rate_critic\"] = 0.001\n",
    "    config[\"learning_rate_actor\"] = 0.001\n",
    "    config[\"exp_phase\"] = 50\n",
    "    config[\"episodes\"] = 1000\n",
    "    config[\"agent_type\"] = agent_type\n",
    "    config[\"env_type\"] = \"hockey\"\n",
    "    config[\"mode\"] = \"normal\"\n",
    "    config[\"name\"] = f'agentcomparefinal'\n",
    "    init_train(config)\n",
    "    config[\"checkpoint1\"] = f'./results/{config[\"agent_type\"]}_hockey_{config[\"name\"]}_{config[\"mode\"]}_agent.pth'\n",
    "    config[\"test\"] = True\n",
    "    init_train(config)"
   ]
  },
  {
   "cell_type": "code",
   "execution_count": null,
   "id": "b143d058-e5c2-489b-8cf0-85d342cd4467",
   "metadata": {},
   "outputs": [],
   "source": [
    "### DEFENSE EXPERIMENT ###\n",
    "for agent_type in [\"TD3\", \"DDPG\", \"DPU\", \"TPS\", \"CDQ\"]:\n",
    "    print(\"AGENT\", agent_type)\n",
    "    config = start_config.copy()\n",
    "    config[\"episodes\"] = 1000\n",
    "    config[\"agent_type\"] = agent_type\n",
    "    config[\"env_type\"] = \"hockey\"\n",
    "    config[\"mode\"] = \"defense\"\n",
    "    config[\"name\"] = \"agentcompare_new\"\n",
    "    init_train(config)\n",
    "    config[\"checkpoint1\"] = f'./results/{config[\"agent_type\"]}_hockey_{config[\"name\"]}_{config[\"mode\"]}_agent.pth'\n",
    "    config[\"test\"] = True\n",
    "    init_train(config)"
   ]
  },
  {
   "cell_type": "code",
   "execution_count": null,
   "id": "6752bfb0-d1c1-4f24-b631-518799543a5d",
   "metadata": {},
   "outputs": [],
   "source": [
    "### ATTACK EXPERIMENT ###\n",
    "for agent_type in [\"DDPG\", \"DPU\", \"TPS\", \"CDQ\", \"TD3\"]:\n",
    "    print(\"AGENT\", agent_type)\n",
    "    config = start_config.copy()\n",
    "    config[\"episodes\"] = 1000\n",
    "    config[\"agent_type\"] = agent_type\n",
    "    config[\"env_type\"] = \"hockey\"\n",
    "    config[\"mode\"] = \"attack\"\n",
    "    config[\"name\"] = f'env_{config[\"env_type\"]}_agent_{agent_type}'\n",
    "    init_train(config)\n",
    "    config[\"checkpoint1\"] = f'./results/{config[\"agent_type\"]}_hockey_{config[\"name\"]}_{config[\"mode\"]}_agent.pth'"
   ]
  },
  {
   "cell_type": "code",
   "execution_count": null,
   "id": "e9885a20-f384-483c-ab15-35a8d735f46f",
   "metadata": {
    "scrolled": true
   },
   "outputs": [],
   "source": [
    "### priority replay !!!NOT USED!!! ###\n",
    "for pri in [True, False]:\n",
    "    config = start_config.copy()\n",
    "    config[\"episodes\"] = 5000\n",
    "    config[\"prio_replay\"] = pri\n",
    "    config[\"name\"] = f\"prio_{pri}\"\n",
    "    config[\"mode\"] = \"normal\"\n",
    "    agent_type=\"TD3\"\n",
    "    env_type=\"hockey\"\n",
    "    init_train(agent_type, env_type, config)\n",
    "    config[\"checkpoint1\"] = f'./results/{agent_type}_hockey_{config[\"name\"]}_{config[\"mode\"]}_agent.pth'\n",
    "    # test agent\n",
    "    config[\"mode\"] = \"normal\"\n",
    "    config[\"test\"] = True\n",
    "    #config[\"episodes\"] = 10\n",
    "    #config[\"render\"] = True\n",
    "    init_train(agent_type, env_type, config)"
   ]
  },
  {
   "cell_type": "code",
   "execution_count": null,
   "id": "ba2bffc2-4fe0-40a6-964a-6bf7ff78a751",
   "metadata": {},
   "outputs": [],
   "source": [
    "### NOT USED ###\n",
    "config = start_config.copy()\n",
    "config[\"episodes\"] = 1000\n",
    "config[\"name\"] = \"20ktest\"\n",
    "for i in range(1):\n",
    "    if i>0:\n",
    "        config[\"mode\"] = \"selfplay\"\n",
    "    config[\"checkpoint1\"] = f'./results/TD3Agent_hockey_{config[\"name\"]}_{config[\"mode\"]}_agent.pth'\n",
    "    config[\"checkpoint2\"] = f'./results/TD3Agent_hockey_{config[\"name\"]}_{config[\"mode\"]}_agent.pth'\n",
    "    config[\"name\"] = f\"selfplay{i}\"\n",
    "    config[\"mode\"] = \"selfplay\"\n",
    "    config[\"test\"] = False\n",
    "    init_train(config)\n",
    "    config[\"test\"] = True\n",
    "    config[\"mode\"] = \"normal\"\n",
    "    config[\"checkpoint2\"] = None\n",
    "    init_train(config)"
   ]
  }
 ],
 "metadata": {
  "kernelspec": {
   "display_name": "Python 3 (ipykernel)",
   "language": "python",
   "name": "python3"
  },
  "language_info": {
   "codemirror_mode": {
    "name": "ipython",
    "version": 3
   },
   "file_extension": ".py",
   "mimetype": "text/x-python",
   "name": "python",
   "nbconvert_exporter": "python",
   "pygments_lexer": "ipython3",
   "version": "3.9.16"
  }
 },
 "nbformat": 4,
 "nbformat_minor": 5
}
