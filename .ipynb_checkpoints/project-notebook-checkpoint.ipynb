{
 "cells": [
  {
   "cell_type": "code",
   "execution_count": 1,
   "id": "64e041c0-4c9e-4640-9b19-0a7a3031a3da",
   "metadata": {},
   "outputs": [],
   "source": [
    "import numpy as np\n",
    "import laserhockey.hockey_env as h_env\n",
    "import gymnasium as gym\n",
    "from importlib import reload\n",
    "import time\n",
    "import torch\n",
    "import DDPG\n",
    "import TD3\n",
    "import os\n",
    "import matplotlib.pyplot as plt\n",
    "from tqdm import tqdm\n",
    "import pickle"
   ]
  },
  {
   "cell_type": "code",
   "execution_count": 2,
   "id": "fb2cde42-002c-4b58-85d7-ca3dabbd4884",
   "metadata": {},
   "outputs": [],
   "source": [
    "plt.rcParams.update({'font.size': 6})"
   ]
  },
  {
   "cell_type": "code",
   "execution_count": 3,
   "id": "5899e8f7-a6e5-4279-aed5-ef159928eced",
   "metadata": {},
   "outputs": [
    {
     "name": "stderr",
     "output_type": "stream",
     "text": [
      "C:\\Users\\lenna\\anaconda3\\envs\\rl-proj\\lib\\site-packages\\gymnasium\\envs\\registration.py:693: UserWarning: \u001b[33mWARN: Overriding environment Hockey-v0 already in registry.\u001b[0m\n",
      "  logger.warn(f\"Overriding environment {new_spec.id} already in registry.\")\n",
      "C:\\Users\\lenna\\anaconda3\\envs\\rl-proj\\lib\\site-packages\\gymnasium\\envs\\registration.py:693: UserWarning: \u001b[33mWARN: Overriding environment Hockey-One-v0 already in registry.\u001b[0m\n",
      "  logger.warn(f\"Overriding environment {new_spec.id} already in registry.\")\n"
     ]
    },
    {
     "data": {
      "text/plain": [
       "<module 'laserhockey.hockey_env' from 'C:\\\\Users\\\\lenna\\\\Desktop\\\\RL\\\\Project\\\\RL-Hockey\\\\laserhockey\\\\hockey_env.py'>"
      ]
     },
     "execution_count": 3,
     "metadata": {},
     "output_type": "execute_result"
    }
   ],
   "source": [
    "np.set_printoptions(suppress=True)\n",
    "reload(h_env)"
   ]
  },
  {
   "cell_type": "code",
   "execution_count": 4,
   "id": "108b196b-96dd-419f-8724-50158f36c937",
   "metadata": {},
   "outputs": [],
   "source": [
    "### moving average to smooth out rewards ###\n",
    "def moving_average(data, win_size):\n",
    "    data = np.asarray(data)\n",
    "    averages = []\n",
    "    for i in range(len(data)-win_size):\n",
    "        averages.append(np.sum(data[i:i+win_size])/win_size)\n",
    "    return averages\n",
    "\n",
    "### opponent that performs random actions\n",
    "class Random_opponent():\n",
    "    def __init__(self, keep_mode=True):\n",
    "        self.keep_mode = keep_mode\n",
    "    def act(self, obs):\n",
    "        if self.keep_mode:\n",
    "            return np.random.uniform(-1,1,4)\n",
    "        return np.random.uniform(-1,1,3)"
   ]
  },
  {
   "cell_type": "code",
   "execution_count": 5,
   "id": "07ba8f2d-b72a-4129-af47-f19185c9f25e",
   "metadata": {},
   "outputs": [],
   "source": [
    "### function for saving train/test statistics\n",
    "def save_statistics(type, config, rewards, net_losses, wins, losses, winrate):\n",
    "    train_type = config[\"test\"]*\"test\" + (1-config[\"test\"])*\"train\"\n",
    "    with open(f'./results/{type}_hockey_{config[\"name\"]}_{config[\"mode\"]}_{train_type}_stats.pkl', 'wb') as f:\n",
    "        pickle.dump({\"Experiment setup\" : config, \"Rewards\": rewards, \"losses\": net_losses, \"wins\": wins, \"losses\":losses, \"winrate\": winrate}, f)"
   ]
  },
  {
   "cell_type": "code",
   "execution_count": 51,
   "id": "0023afc2-9cc6-4527-b438-c65c55030fb7",
   "metadata": {},
   "outputs": [],
   "source": [
    "### training and testing ###\n",
    "def train(agent1, agent2, config):\n",
    "    #config.update(userconfig)\n",
    "    save_as1=f'./results/{type(agent1).__name__}_hockey_{config[\"name\"]}_{config[\"mode\"]}_agent.pth'\n",
    "    save_as2=f'./results/{type(agent2).__name__}_hockey_{config[\"name\"]}_{config[\"mode\"]}_agent.pth'\n",
    "    if config[\"mode\"]==\"normal\" or config[\"mode\"]==\"weak\" or config[\"mode\"]==\"selfplay\":\n",
    "        env = h_env.HockeyEnv()\n",
    "    elif config[\"mode\"]==\"defense\":\n",
    "        env = h_env.HockeyEnv(mode=h_env.HockeyEnv.TRAIN_DEFENSE)\n",
    "    elif config[\"mode\"]==\"attack\":\n",
    "        env = h_env.HockeyEnv(mode=h_env.HockeyEnv.TRAIN_SHOOTING)\n",
    "        \n",
    "    if config[\"mode\"]==\"normal\":\n",
    "        player2 = h_env.BasicOpponent(weak=False)\n",
    "    elif config[\"mode\"]==\"weak\":\n",
    "        player2 = h_env.BasicOpponent()\n",
    "    elif config[\"mode\"]==\"defense\" or config[\"mode\"]==\"attack\":\n",
    "        player2 = Random_opponent()\n",
    "    elif config[\"mode\"]==\"selfplay\":\n",
    "        player2 = agent2\n",
    "        \n",
    "    player1 = agent1\n",
    "    obs_agent2 = env.obs_agent_two()\n",
    "    if type(agent1).__name__==\"TD3Agent\":\n",
    "        train_losses = np.empty((0,4))\n",
    "    else:\n",
    "        train_losses = np.empty((0,2))\n",
    "    rewards = []\n",
    "    wins, losses, rewards = 0, 0, []\n",
    "    eps = config[\"eps\"]\n",
    "    desc = \"Training...\"\n",
    "    if config[\"test\"]:\n",
    "        desc=\"Testing...\"\n",
    "        eps = 0.0\n",
    "    for i in tqdm(range(config[\"episodes\"]), desc=desc, unit=\"episodes\", colour=\"green\"):\n",
    "        obs, info = env.reset()\n",
    "        d = False\n",
    "        ep_r = 0\n",
    "        old_r = 0\n",
    "        while not d:\n",
    "            if config[\"render\"]:\n",
    "                env.render()\n",
    "            a1 = player1.act(obs, eps=config[\"eps\"])\n",
    "            a2 = player2.act(obs_agent2)\n",
    "            obsnew, r, d, _, info = env.step(np.hstack([a1,a2]))\n",
    "            #print(obsnew, r)\n",
    "            if info['winner']==1:\n",
    "                wins += 1\n",
    "            elif info['winner']==-1:\n",
    "                losses += 1\n",
    "            player1.store_transition((obs, a1, r, obsnew, d))\n",
    "            if abs(r)>0:\n",
    "                player1.store_transition((obs, a1, r, obsnew, d))\n",
    "                player1.store_transition((obs, a1, r, obsnew, d))\n",
    "                player1.store_transition((obs, a1, r, obsnew, d))\n",
    "                player1.store_transition((obs, a1, r, obsnew, d))\n",
    "                player1.store_transition((obs, a1, r, obsnew, d))\n",
    "            if config[\"mode\"]==\"selfplay\":\n",
    "                player2.store_transition((obs, a2, r, obsnew, d))\n",
    "            obs_agent2 = env.obs_agent_two()\n",
    "            #print(abs(obs-obsnew), abs(old_r-r))\n",
    "            obs=obsnew\n",
    "            ep_r +=r\n",
    "            #print(r)\n",
    "            old_r = r\n",
    "        if not config[\"test\"] and i>100:\n",
    "            loss = player1.train(config[\"iter_fit\"])\n",
    "            train_losses = np.concatenate((train_losses, np.asarray(loss)))\n",
    "            if config[\"mode\"]==\"selfplay\":\n",
    "                _ = player2.train(config[\"iter_fit\"])\n",
    "        rewards.append(ep_r)\n",
    "    print(f'Wins: {wins}')\n",
    "    print(f'Losses: {losses}')\n",
    "    winrate = wins/max(1,losses)\n",
    "    print(f'W/L: {winrate}')\n",
    "    env.close()\n",
    "    save_statistics(type(agent1).__name__, config, rewards, train_losses, wins, losses, winrate)\n",
    "    if not config[\"test\"]:\n",
    "        torch.save(player1.state(), save_as1)\n",
    "        if config[\"mode\"]==\"selfplay\":\n",
    "            torch.save(player2.state(), save_as2)       \n",
    "    return train_losses, rewards"
   ]
  },
  {
   "cell_type": "code",
   "execution_count": 52,
   "id": "8eae6168-9191-4a92-8684-57699eb6857c",
   "metadata": {},
   "outputs": [],
   "source": [
    "### initializes agents and executes training procedure ###\n",
    "def init_train(config):\n",
    "    env = h_env.HockeyEnv()\n",
    "    agent1 = TD3.TD3Agent(env.observation_space, env.action_space, discount=config[\"discount\"], eps=config[\"eps\"],\n",
    "                          update_target_every=config[\"update_target_every\"], update_policy_every=config[\"update_policy_every\"], \n",
    "                          hidden_sizes_actor=config[\"hidden_sizes_actor\"],hidden_sizes_critic=config[\"hidden_sizes_critic\"],\n",
    "                          smoothing_std=config[\"smoothing_std\"], smoothing_clip=config[\"smoothing_clip\"],\n",
    "                          learning_rate_actor=config[\"learning_rate_actor\"], learning_rate_critic=config[\"learning_rate_critic\"])\n",
    "    agent2 = None\n",
    "    if config[\"checkpoint1\"]:\n",
    "        agent1.restore_state(torch.load(config[\"checkpoint1\"]))\n",
    "    if config[\"checkpoint2\"]:\n",
    "        agent2.restore_state(torch.load(config[\"checkpoint2\"]))\n",
    "    env.close()    \n",
    "    losses_wea, rewards_wea = train(agent1, agent2, config)\n",
    "    rewards_wea_avg = moving_average(rewards_wea, 100)\n",
    "    if not config[\"test\"]:\n",
    "        plt.figure(figsize=(3,2))\n",
    "        plt.plot(rewards_wea_avg)\n",
    "        plt.title(f'{type(agent1).__name__}_wea_{config[\"mode\"]}')\n",
    "        plt.show()\n",
    "    \n",
    "    '''checkpoint = f'./results/{type(agent).__name__}_hockey_{episodes}-eps{eps}-{mode}.pth' '''\n",
    "\n",
    "        \n",
    "    '''agent2 = DDPG.DDPGAgent(env.observation_space, env.action_space, \n",
    "                           discount=1, eps=eps, update_target_every=update_target_every, hidden_sizes_actor=hidden_sizes_actor,hidden_sizes_critic=hidden_sizes_critic)\n",
    "    agent2.restore_state(torch.load(checkpoint2))'''"
   ]
  },
  {
   "cell_type": "code",
   "execution_count": 53,
   "id": "eb840b09-a9c9-41fe-94d2-bfab985004cf",
   "metadata": {},
   "outputs": [],
   "source": [
    "start_config = {\n",
    "    \"name\" : \"name\",\n",
    "    \"agent_type\" : \"TD3\",\n",
    "    \"test\" : False,\n",
    "    \"render\" : False,\n",
    "    \"episodes\" : 5000,\n",
    "    \"mode\" : \"normal\",\n",
    "    \"eps\" : 0.1,\n",
    "    \"discount\":1,\n",
    "    \"update_target_every\":100,\n",
    "    \"update_policy_every\":20,\n",
    "    \"hidden_sizes_actor\" : [128,128],\n",
    "    \"hidden_sizes_critic\" : [128,128,64],\n",
    "    \"iter_fit\" : 32,\n",
    "    \"smoothing_std\"  : 0.0005,\n",
    "    \"smoothing_clip\" : 0.00025,\n",
    "    \"checkpoint1\" : None,\n",
    "    \"checkpoint2\" : None,\n",
    "    \"learning_rate_actor\": 0.0001,\n",
    "    \"learning_rate_critic\": 0.0001,\n",
    "    \"buffer_size\" : 25000\n",
    "}\n",
    "# lr of 0.001 for both seems to work best\n",
    "# large buffer size seems to be better\n",
    "# eps 0.1 seems to be best\n",
    "# discount 1 shows best results (winning later isn't worse than earlier?)"
   ]
  },
  {
   "cell_type": "code",
   "execution_count": 54,
   "id": "32a71a50-36ee-4dc7-bcc6-d1d61a63f343",
   "metadata": {
    "scrolled": true
   },
   "outputs": [
    {
     "name": "stdout",
     "output_type": "stream",
     "text": [
      "LR ACTOR: 0.0001\n"
     ]
    },
    {
     "name": "stderr",
     "output_type": "stream",
     "text": [
      "Training...: 100%|\u001b[32m███████████████████████████████████████████████████████████\u001b[0m| 1000/1000 [09:23<00:00,  1.77episodes/s]\u001b[0m\n"
     ]
    },
    {
     "name": "stdout",
     "output_type": "stream",
     "text": [
      "Wins: 117\n",
      "Losses: 56\n",
      "W/L: 2.0892857142857144\n"
     ]
    },
    {
     "data": {
      "image/png": "[encoded data removed]",
      "text/plain": [
       "<Figure size 300x200 with 1 Axes>"
      ]
     },
     "metadata": {},
     "output_type": "display_data"
    },
    {
     "name": "stderr",
     "output_type": "stream",
     "text": [
      "Testing...: 100%|\u001b[32m████████████████████████████████████████████████████████████\u001b[0m| 1000/1000 [01:26<00:00, 11.51episodes/s]\u001b[0m"
     ]
    },
    {
     "name": "stdout",
     "output_type": "stream",
     "text": [
      "Wins: 266\n",
      "Losses: 128\n",
      "W/L: 2.078125\n"
     ]
    },
    {
     "name": "stderr",
     "output_type": "stream",
     "text": [
      "\n"
     ]
    },
    {
     "data": {
      "text/plain": [
       "'for lr_crit in [0.001, 0.0001, 0.00001]:\\n    config = start_config.copy()\\n    config[\"name\"] = \"paramtest4\"\\n    config[\"mode\"] = \"normal\"\\n    print(\"LR CRITIC:\", lr_crit)\\n    config[\"learning_rate_critic\"] = lr_crit\\n    init_train(config)\\n    config[\"checkpoint1\"] = f\\'./results/TD3Agent_hockey_{config[\"name\"]}_{config[\"mode\"]}_agent.pth\\'\\n    # test agent\\n    config[\"mode\"] = \"normal\"\\n    config[\"test\"] = True\\n    init_train(config)\\n    config[\"test\"] = False'"
      ]
     },
     "execution_count": 54,
     "metadata": {},
     "output_type": "execute_result"
    }
   ],
   "source": [
    "### training without defense/attack ###\n",
    "\n",
    "\n",
    "'''config = start_config.copy()\n",
    "config[\"name\"] = \"baseline_optimparam\"\n",
    "config[\"episodes\"] = 10000\n",
    "config[\"mode\"] = \"normal\"\n",
    "init_train(config)\n",
    "config[\"checkpoint1\"] = f'./results/TD3Agent_hockey_{config[\"name\"]}_{config[\"mode\"]}_agent.pth'\n",
    "# test agent\n",
    "config[\"test\"] = True\n",
    "config[\"episodes\"] = 5000\n",
    "init_train(config)'''\n",
    "\n",
    "\n",
    "config = start_config.copy()\n",
    "config[\"name\"] = \"paramtest5\"\n",
    "config[\"mode\"] = \"normal\"\n",
    "init_train(config)\n",
    "config[\"checkpoint1\"] = f'./results/TD3Agent_hockey_{config[\"name\"]}_{config[\"mode\"]}_agent.pth'\n",
    "# test agent\n",
    "config[\"mode\"] = \"normal\"\n",
    "config[\"test\"] = True\n",
    "init_train(config)\n",
    "config[\"test\"] = False\n",
    "\n",
    "\n",
    "'''for lr_crit in [0.001, 0.0001, 0.00001]:\n",
    "    config = start_config.copy()\n",
    "    config[\"name\"] = \"paramtest4\"\n",
    "    config[\"mode\"] = \"normal\"\n",
    "    print(\"LR CRITIC:\", lr_crit)\n",
    "    config[\"learning_rate_critic\"] = lr_crit\n",
    "    init_train(config)\n",
    "    config[\"checkpoint1\"] = f'./results/TD3Agent_hockey_{config[\"name\"]}_{config[\"mode\"]}_agent.pth'\n",
    "    # test agent\n",
    "    config[\"mode\"] = \"normal\"\n",
    "    config[\"test\"] = True\n",
    "    init_train(config)\n",
    "    config[\"test\"] = False'''"
   ]
  },
  {
   "cell_type": "code",
   "execution_count": null,
   "id": "ba2bffc2-4fe0-40a6-964a-6bf7ff78a751",
   "metadata": {},
   "outputs": [],
   "source": [
    "config = start_config.copy()\n",
    "config[\"name\"] = \"paramtest3\"\n",
    "config[\"test\"] = True\n",
    "config[\"render\"] = True\n",
    "config[\"episodes\"] = 10\n",
    "config[\"checkpoint1\"] = f'./results/TD3Agent_hockey_{config[\"name\"]}_{config[\"mode\"]}_agent.pth'\n",
    "init_train(config)"
   ]
  },
  {
   "cell_type": "code",
   "execution_count": null,
   "id": "6e89d865-29b7-46a6-8425-a37fbd26c8da",
   "metadata": {
    "scrolled": true
   },
   "outputs": [],
   "source": [
    "### TRAINING CAMP ###\n",
    "config = start_config.copy()\n",
    "# defense training\n",
    "config[\"name\"] = \"basetest\"\n",
    "config[\"mode\"] = \"defense\"\n",
    "config[\"episodes\"] = 1000\n",
    "init_train(config)\n",
    "config[\"checkpoint1\"] = f'./results/TD3Agent_hockey_{config[\"name\"]}_{config[\"mode\"]}_agent.pth'\n",
    "# test agent trained on defense\n",
    "config[\"mode\"] = \"normal\"\n",
    "config[\"test\"] = True\n",
    "init_train(config)\n",
    "\n",
    "# shoot training\n",
    "config[\"mode\"] = \"attack\"\n",
    "config[\"test\"] = False\n",
    "init_train(config)\n",
    "config[\"checkpoint1\"] = f'./results/TD3Agent_hockey_{config[\"name\"]}_{config[\"mode\"]}_agent.pth'\n",
    "# test agent trained on defense AND shooting\n",
    "config[\"mode\"] = \"normal\"\n",
    "config[\"test\"] = True\n",
    "init_train(config)\n",
    "\n",
    "# regular training\n",
    "config[\"mode\"] = \"normal\"\n",
    "config[\"test\"] = False\n",
    "init_train(config)\n",
    "config[\"checkpoint1\"] = f'./results/TD3Agent_hockey_{config[\"name\"]}_{config[\"mode\"]}_agent.pth'\n",
    "# test agent trained on defense AND shooting\n",
    "config[\"mode\"] = \"normal\"\n",
    "config[\"test\"] = True\n",
    "init_train(config)"
   ]
  },
  {
   "cell_type": "code",
   "execution_count": 20,
   "id": "56102694-5675-49ec-8110-1124c47b2146",
   "metadata": {},
   "outputs": [
    {
     "name": "stderr",
     "output_type": "stream",
     "text": [
      "Training...: 100%|\u001b[32m█████████████████████████████████████████████████████████\u001b[0m| 10000/10000 [47:28<00:00,  3.51episodes/s]\u001b[0m\n"
     ]
    },
    {
     "name": "stdout",
     "output_type": "stream",
     "text": [
      "Wins: 1432\n",
      "Losses: 798\n",
      "W/L: 1.794486215538847\n"
     ]
    },
    {
     "data": {
      "image/png": "[encoded data removed]",
      "text/plain": [
       "<Figure size 300x200 with 1 Axes>"
      ]
     },
     "metadata": {},
     "output_type": "display_data"
    },
    {
     "name": "stderr",
     "output_type": "stream",
     "text": [
      "Testing...: 100%|\u001b[32m██████████████████████████████████████████████████████████\u001b[0m| 10000/10000 [20:26<00:00,  8.16episodes/s]\u001b[0m\n"
     ]
    },
    {
     "name": "stdout",
     "output_type": "stream",
     "text": [
      "Wins: 627\n",
      "Losses: 309\n",
      "W/L: 2.029126213592233\n"
     ]
    }
   ],
   "source": [
    "### test 0 eps vs 0.1 ###\n",
    "# test agent\n",
    "config = start_config.copy()\n",
    "config[\"name\"] = \"param_explore3\"\n",
    "config[\"mode\"] = \"normal\"\n",
    "#config[\"episodes\"] = 3000\n",
    "init_train(config)\n",
    "config[\"test\"] = True\n",
    "config[\"checkpoint1\"] = f'./results/TD3Agent_hockey_{config[\"name\"]}_{config[\"mode\"]}_agent.pth'\n",
    "init_train(config)"
   ]
  },
  {
   "cell_type": "code",
   "execution_count": 9,
   "id": "76401b23-3708-4d26-83e1-8956a75c8bd6",
   "metadata": {},
   "outputs": [
    {
     "ename": "TypeError",
     "evalue": "train() got an unexpected keyword argument 'mode'",
     "output_type": "error",
     "traceback": [
      "\u001b[1;31m---------------------------------------------------------------------------\u001b[0m",
      "\u001b[1;31mTypeError\u001b[0m                                 Traceback (most recent call last)",
      "Cell \u001b[1;32mIn[9], line 30\u001b[0m\n\u001b[0;32m     27\u001b[0m     agent\u001b[38;5;241m.\u001b[39mrestore_state(torch\u001b[38;5;241m.\u001b[39mload(checkpoint))\n\u001b[0;32m     29\u001b[0m \u001b[38;5;66;03m#mode = \"normal\"\u001b[39;00m\n\u001b[1;32m---> 30\u001b[0m losses_wea, rewards_wea \u001b[38;5;241m=\u001b[39m \u001b[43mtrain\u001b[49m\u001b[43m(\u001b[49m\u001b[43magent\u001b[49m\u001b[43m,\u001b[49m\u001b[43m \u001b[49m\u001b[43mmode\u001b[49m\u001b[38;5;241;43m=\u001b[39;49m\u001b[43mmode\u001b[49m\u001b[43m,\u001b[49m\u001b[43m \u001b[49m\u001b[43mepisodes\u001b[49m\u001b[38;5;241;43m=\u001b[39;49m\u001b[43mepisodes\u001b[49m\u001b[43m,\u001b[49m\u001b[43m \u001b[49m\u001b[43meps\u001b[49m\u001b[38;5;241;43m=\u001b[39;49m\u001b[43meps\u001b[49m\u001b[43m,\u001b[49m\u001b[43m \u001b[49m\u001b[43mtest\u001b[49m\u001b[38;5;241;43m=\u001b[39;49m\u001b[43mtest\u001b[49m\u001b[43m,\u001b[49m\u001b[43m \u001b[49m\u001b[43miter_fit\u001b[49m\u001b[38;5;241;43m=\u001b[39;49m\u001b[43miter_fit\u001b[49m\u001b[43m,\u001b[49m\u001b[43m \u001b[49m\u001b[43mrender\u001b[49m\u001b[38;5;241;43m=\u001b[39;49m\u001b[43mrender\u001b[49m\u001b[43m)\u001b[49m\n\u001b[0;32m     31\u001b[0m rewards_wea_avg \u001b[38;5;241m=\u001b[39m moving_average(rewards_wea, \u001b[38;5;241m20\u001b[39m)\n\u001b[0;32m     32\u001b[0m plt\u001b[38;5;241m.\u001b[39mplot(rewards_wea_avg)\n",
      "\u001b[1;31mTypeError\u001b[0m: train() got an unexpected keyword argument 'mode'"
     ]
    }
   ],
   "source": [
    "test = True\n",
    "render = True\n",
    "episodes=10000\n",
    "mode = \"selfplay\"\n",
    "eps = 0.1\n",
    "update_target_every=100\n",
    "update_policy_every=20\n",
    "hidden_sizes_actor = [128,128]\n",
    "hidden_sizes_critic = [128,128,64]\n",
    "iter_fit = 32\n",
    "std  = 0.0005\n",
    "c = std/2\n",
    "\n",
    "\n",
    "env = h_env.HockeyEnv(mode=h_env.HockeyEnv.TRAIN_DEFENSE)\n",
    "agent = TD3.TD3Agent(env.observation_space, env.action_space, discount=1, eps=eps, \n",
    "                     update_target_every=update_target_every, update_policy_every=update_policy_every, \n",
    "                     hidden_sizes_actor=hidden_sizes_actor,hidden_sizes_critic=hidden_sizes_critic,\n",
    "                     smoothing_std=std, smoothing_clip=c)\n",
    "checkpoint = None\n",
    "if test:\n",
    "    checkpoint = f'./results/{type(agent).__name__}_hockey_{episodes}-eps{eps}-{mode}.pth'\n",
    "    episodes=1000\n",
    "    mode='normal'\n",
    "env.close()\n",
    "if checkpoint is not None:\n",
    "    agent.restore_state(torch.load(checkpoint))\n",
    "    \n",
    "#mode = \"normal\"\n",
    "losses_wea, rewards_wea = train(agent, mode=mode, episodes=episodes, eps=eps, test=test, iter_fit=iter_fit, render=render)\n",
    "rewards_wea_avg = moving_average(rewards_wea, 20)\n",
    "plt.plot(rewards_wea_avg)\n",
    "plt.title(f'{type(agent).__name__}_wea_{eps}')\n",
    "plt.show()\n"
   ]
  },
  {
   "cell_type": "code",
   "execution_count": null,
   "id": "8b65c806-2fd7-43c1-a93a-8cffa8f24e6b",
   "metadata": {},
   "outputs": [],
   "source": [
    "\n",
    "\n",
    "mode='normal'\n",
    "episodes=10000\n",
    "env = h_env.HockeyEnv(mode=h_env.HockeyEnv.TRAIN_DEFENSE)\n",
    "agent = DDPG.DDPGAgent(env.observation_space, env.action_space, \n",
    "                       discount=1, eps=eps, update_target_every=update_target_every, hidden_sizes_actor=hidden_sizes_actor,hidden_sizes_critic=hidden_sizes_critic)\n",
    "checkpoint = None\n",
    "if test:\n",
    "    checkpoint = f'./results/{type(agent).__name__}_hockey_{episodes}-eps{eps}-{mode}.pth'\n",
    "    episodes=1000\n",
    "    mode='normal'\n",
    "env.close()\n",
    "if checkpoint is not None:\n",
    "losses_wea, rewards_wea = train(agent, mode=mode, episodes=episodes, eps=eps, test=test, iter_fit=iter_fit, render=render)\n",
    "rewards_wea_avg = moving_average(rewards_wea, 20)\n",
    "plt.plot(rewards_wea_avg)\n",
    "plt.title(f'{type(agent).__name__}_wea_{eps}')\n",
    "plt.show()\n"
   ]
  },
  {
   "cell_type": "code",
   "execution_count": null,
   "id": "7f982787-5cb6-407a-ae13-17d8c6d6eba8",
   "metadata": {},
   "outputs": [],
   "source": []
  },
  {
   "cell_type": "code",
   "execution_count": null,
   "id": "f2ed13bc-8d28-47aa-a66e-f54be6adc531",
   "metadata": {},
   "outputs": [],
   "source": [
    "A = torch.randn(5)\n",
    "b = torch.clamp(A, 0.2,0.5)\n",
    "print(b)"
   ]
  },
  {
   "cell_type": "code",
   "execution_count": null,
   "id": "5e42456d-8689-4f40-a689-6b748b8fba1a",
   "metadata": {},
   "outputs": [],
   "source": [
    "episodes = 1000\n",
    "eps = 0\n",
    "checkpoint = f'./results/DDPG_hockey_{episodes}-eps{eps}-weak.pth'\n",
    "agent = DDPG.DDPGAgent(env.observation_space, env.action_space, discount=1, eps=eps)\n",
    "agent.restore_state(torch.load(checkpoint))\n",
    "losses_wea,  rewards_wea = train(agent, mode=\"weak\", episodes=1000, eps=0)"
   ]
  },
  {
   "cell_type": "code",
   "execution_count": null,
   "id": "07d4391f-66ab-4ce0-948f-86e502af8050",
   "metadata": {},
   "outputs": [],
   "source": [
    "rewards_weak_avg = moving_average(rewards_wea, 20)\n",
    "\n",
    "plt.plot(rewards_weak_avg)"
   ]
  },
  {
   "cell_type": "code",
   "execution_count": null,
   "id": "7d017caa-f8e3-47b8-b0a4-f0bd0bb1f018",
   "metadata": {},
   "outputs": [],
   "source": [
    "\n",
    "\n",
    "rewards_att_avg = moving_average(rewards_att, 20)\n",
    "plt.plot(rewards_def_avg.)\n",
    "plt.title(f'def_{eps}')\n",
    "plt.show()\n",
    "plt.plot(rewards_att_avg)\n",
    "plt.title(f'att_{eps}')\n",
    "plt.show()"
   ]
  },
  {
   "cell_type": "code",
   "execution_count": null,
   "id": "3316118e-aa0a-47b2-b014-e3425ccad2ca",
   "metadata": {},
   "outputs": [],
   "source": [
    "rewards_def_avg = moving_average(rewards_def, 20)"
   ]
  },
  {
   "cell_type": "code",
   "execution_count": null,
   "id": "0da5803e-e386-45b2-b86d-1cc4c4984060",
   "metadata": {},
   "outputs": [],
   "source": [
    "\n",
    "plt.plot(rewards_def_avg)\n",
    "plt.title(f'schwanzus{eps}')"
   ]
  },
  {
   "cell_type": "code",
   "execution_count": null,
   "id": "c0c88a23-ac98-419a-a63d-52c5089fd9ac",
   "metadata": {},
   "outputs": [],
   "source": []
  }
 ],
 "metadata": {
  "kernelspec": {
   "display_name": "Python 3 (ipykernel)",
   "language": "python",
   "name": "python3"
  },
  "language_info": {
   "codemirror_mode": {
    "name": "ipython",
    "version": 3
   },
   "file_extension": ".py",
   "mimetype": "text/x-python",
   "name": "python",
   "nbconvert_exporter": "python",
   "pygments_lexer": "ipython3",
   "version": "3.9.16"
  }
 },
 "nbformat": 4,
 "nbformat_minor": 5
}
