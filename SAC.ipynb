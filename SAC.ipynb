{
 "cells": [
  {
   "cell_type": "markdown",
   "metadata": {},
   "source": [
    "This notebook trains and tests an SCA agent on the Laser Hockey Enviroment"
   ]
  },
  {
   "cell_type": "code",
   "execution_count": 8,
   "metadata": {},
   "outputs": [],
   "source": [
    "# Imports\n",
    "import numpy as np\n",
    "import laserhockey.hockey_env as h_env\n",
    "from importlib import reload\n",
    "from SAC import Agent\n",
    "import matplotlib.pyplot as plt\n",
    "# from gym import wrappers"
   ]
  },
  {
   "cell_type": "code",
   "execution_count": 9,
   "metadata": {},
   "outputs": [],
   "source": [
    "# Global variables\n",
    "train_games = 200\n",
    "test_games = 100\n",
    "change_mode_after = 100\n",
    "load_checkpoint = True\n",
    "train = True\n",
    "# render testing\n",
    "render = False"
   ]
  },
  {
   "cell_type": "code",
   "execution_count": 10,
   "metadata": {},
   "outputs": [
    {
     "name": "stderr",
     "output_type": "stream",
     "text": [
      "c:\\Users\\Emil\\anaconda3\\envs\\RL\\lib\\site-packages\\gymnasium\\envs\\registration.py:693: UserWarning: \u001b[33mWARN: Overriding environment Hockey-v0 already in registry.\u001b[0m\n",
      "  logger.warn(f\"Overriding environment {new_spec.id} already in registry.\")\n",
      "c:\\Users\\Emil\\anaconda3\\envs\\RL\\lib\\site-packages\\gymnasium\\envs\\registration.py:693: UserWarning: \u001b[33mWARN: Overriding environment Hockey-One-v0 already in registry.\u001b[0m\n",
      "  logger.warn(f\"Overriding environment {new_spec.id} already in registry.\")\n"
     ]
    }
   ],
   "source": [
    "# Initialization \n",
    "np.set_printoptions(suppress=True)\n",
    "reload(h_env)\n",
    "\n",
    "# get enviroment\n",
    "env = h_env.HockeyEnv(mode=h_env.HockeyEnv.TRAIN_DEFENSE)\n",
    "\n",
    "#init agent\n",
    "agent = Agent(input_dims=env.observation_space.shape, \n",
    "              env=env,\n",
    "              n_actions=int(env.action_space.shape[0]/2))\n",
    "\n",
    "# and oponent\n",
    "opponent = h_env.BasicOpponent()\n"
   ]
  },
  {
   "cell_type": "code",
   "execution_count": 11,
   "metadata": {},
   "outputs": [],
   "source": [
    "# Plotting function\n",
    "def plot_learning_curve(x, scores, figure_file):\n",
    "    running_avg = np.zeros(len(scores))\n",
    "    for i in range(len(running_avg)):\n",
    "        running_avg[i] = np.mean(scores[max(0, i-100):(i+1)])\n",
    "    plt.plot(x, running_avg)\n",
    "    plt.title('Running average of previous 100 scores')\n",
    "    plt.savefig(figure_file)"
   ]
  },
  {
   "cell_type": "code",
   "execution_count": 12,
   "metadata": {},
   "outputs": [
    {
     "name": "stdout",
     "output_type": "stream",
     "text": [
      ".... loading models ....\n",
      "episode  0 score -6.2 avg_score -6.2\n",
      "episode  1 score -1.7 avg_score -3.9\n",
      "episode  2 score -10.6 avg_score -6.2\n",
      "episode  3 score -3.7 avg_score -5.6\n",
      "episode  4 score -4.3 avg_score -5.3\n",
      "episode  5 score 0.0 avg_score -4.4\n",
      "episode  6 score -1.7 avg_score -4.0\n",
      "episode  7 score -2.1 avg_score -3.8\n",
      "episode  8 score -2.1 avg_score -3.6\n",
      "episode  9 score -2.0 avg_score -3.4\n",
      "episode  10 score -1.4 avg_score -3.3\n",
      "episode  11 score -2.8 avg_score -3.2\n",
      "episode  12 score -1.7 avg_score -3.1\n",
      "episode  13 score -2.9 avg_score -3.1\n",
      "episode  14 score -1.8 avg_score -3.0\n",
      "episode  15 score -1.2 avg_score -2.9\n",
      "episode  16 score -4.0 avg_score -3.0\n",
      "episode  17 score -1.6 avg_score -2.9\n",
      "episode  18 score -3.7 avg_score -2.9\n",
      "episode  19 score -11.7 avg_score -3.4\n",
      "episode  20 score -5.2 avg_score -3.4\n",
      "episode  21 score -2.4 avg_score -3.4\n",
      "episode  22 score -1.2 avg_score -3.3\n",
      "episode  23 score -2.0 avg_score -3.3\n",
      "episode  24 score -2.7 avg_score -3.2\n",
      "episode  25 score -2.3 avg_score -3.2\n",
      "episode  26 score -2.0 avg_score -3.1\n",
      "episode  27 score -1.6 avg_score -3.1\n",
      "episode  28 score -1.5 avg_score -3.0\n",
      "episode  29 score -3.0 avg_score -3.0\n",
      "episode  30 score -0.3 avg_score -2.9\n",
      "episode  31 score -1.7 avg_score -2.9\n",
      "episode  32 score -1.6 avg_score -2.9\n",
      "episode  33 score -1.4 avg_score -2.8\n",
      "episode  34 score -7.6 avg_score -3.0\n",
      "episode  35 score -1.7 avg_score -2.9\n",
      "episode  36 score 1.9 avg_score -2.8\n",
      "episode  37 score -0.8 avg_score -2.7\n",
      "episode  38 score -1.6 avg_score -2.7\n",
      "episode  39 score -1.7 avg_score -2.7\n",
      "episode  40 score -3.7 avg_score -2.7\n",
      "episode  41 score -2.9 avg_score -2.7\n",
      "episode  42 score -4.5 avg_score -2.8\n",
      "episode  43 score -2.3 avg_score -2.7\n",
      "episode  44 score -1.8 avg_score -2.7\n",
      "episode  45 score -2.1 avg_score -2.7\n",
      "episode  46 score -1.4 avg_score -2.7\n",
      "episode  47 score -1.9 avg_score -2.7\n",
      "episode  48 score -1.8 avg_score -2.7\n",
      "episode  49 score -3.3 avg_score -2.7\n",
      "episode  50 score -2.6 avg_score -2.7\n",
      "episode  51 score -2.5 avg_score -2.7\n",
      "episode  52 score -2.4 avg_score -2.7\n",
      "episode  53 score 10.0 avg_score -2.4\n",
      "episode  54 score -1.5 avg_score -2.4\n",
      "episode  55 score -12.3 avg_score -2.6\n",
      "episode  56 score -1.4 avg_score -2.6\n",
      "episode  57 score -1.0 avg_score -2.5\n",
      "episode  58 score 8.5 avg_score -2.3\n",
      "episode  59 score -2.0 avg_score -2.3\n",
      "episode  60 score -4.5 avg_score -2.4\n",
      "episode  61 score -2.0 avg_score -2.4\n",
      "episode  62 score -2.6 avg_score -2.4\n",
      "episode  63 score -4.1 avg_score -2.4\n",
      "episode  64 score -2.1 avg_score -2.4\n",
      "episode  65 score -1.4 avg_score -2.4\n",
      "episode  66 score -1.9 avg_score -2.4\n",
      "episode  67 score -2.6 avg_score -2.4\n",
      "episode  68 score 10.0 avg_score -2.2\n",
      "episode  69 score -5.2 avg_score -2.2\n",
      "episode  70 score -8.8 avg_score -2.3\n",
      "episode  71 score -2.3 avg_score -2.3\n",
      "episode  72 score -1.2 avg_score -2.3\n",
      "episode  73 score -1.9 avg_score -2.3\n",
      "episode  74 score -6.6 avg_score -2.4\n",
      "episode  75 score -2.1 avg_score -2.4\n",
      "episode  76 score -12.2 avg_score -2.5\n",
      "episode  77 score -1.3 avg_score -2.5\n",
      "episode  78 score -1.6 avg_score -2.5\n",
      "episode  79 score -1.8 avg_score -2.5\n",
      "episode  80 score -2.5 avg_score -2.5\n",
      "episode  81 score 8.2 avg_score -2.3\n",
      "episode  82 score -1.5 avg_score -2.3\n"
     ]
    }
   ],
   "source": [
    "# Training of agent\n",
    "\n",
    "# uncomment this line and do a mkdir tmp && mkdir video if you want to\n",
    "# record video of the agent playing the game.\n",
    "#env = wrappers.Monitor(env, 'tmp/video', video_callable=lambda episode_id: True, force=True)\n",
    "\n",
    "best_score = env.reward_range[0]\n",
    "score_history = []\n",
    "\n",
    "if train:\n",
    "    # conttinue from checkpoint\n",
    "    if load_checkpoint:\n",
    "        agent.load_models()\n",
    "\n",
    "    for i in range(train_games):\n",
    "        observation, info = env.reset()\n",
    "        obs_opponent = env.obs_agent_two()\n",
    "\n",
    "        done = False\n",
    "        score = 0\n",
    "\n",
    "        while not done:\n",
    "            action1 = agent.act(observation)\n",
    "            action2 = opponent.act(obs_opponent)\n",
    "            \n",
    "            observation_, reward, done, _, info = env.step(np.hstack([action1,action2]))\n",
    "            score += reward\n",
    "            agent.remember(observation, action1, reward, observation_, done)\n",
    "            \n",
    "            # learn after buffer is filled \n",
    "            if i > 20:\n",
    "                agent.learn()\n",
    "                \n",
    "            obs_opponent = env.obs_agent_two()\n",
    "            observation = observation_\n",
    "            \n",
    "        score_history.append(score)\n",
    "        avg_score = np.mean(score_history[-100:])\n",
    "\n",
    "        if avg_score > best_score and i > 100:\n",
    "            best_score = avg_score\n",
    "            agent.save_models()\n",
    "\n",
    "        print('episode ', i, 'score %.1f' % score, 'avg_score %.1f' % avg_score)\n",
    "\n",
    "    x = [i+1 for i in range(train_games)]\n",
    "    plot_learning_curve(x, score_history, 'SCA.png')"
   ]
  },
  {
   "cell_type": "code",
   "execution_count": null,
   "metadata": {},
   "outputs": [
    {
     "name": "stdout",
     "output_type": "stream",
     "text": [
      ".... loading models ....\n"
     ]
    },
    {
     "name": "stderr",
     "output_type": "stream",
     "text": [
      "c:\\Users\\Emil\\RL-Hockey\\SAC.py:201: UserWarning: Creating a tensor from a list of numpy.ndarrays is extremely slow. Please consider converting the list to a single numpy.ndarray with numpy.array() before converting to a tensor. (Triggered internally at C:\\cb\\pytorch_1000000000000\\work\\torch\\csrc\\utils\\tensor_new.cpp:248.)\n",
      "  state = T.Tensor([observation]).to(self.actor.device)\n"
     ]
    },
    {
     "data": {
      "text/plain": [
       "8"
      ]
     },
     "execution_count": 7,
     "metadata": {},
     "output_type": "execute_result"
    }
   ],
   "source": [
    "# Testing\n",
    "\n",
    "wins = 0\n",
    "losses = 0\n",
    "draws = 0\n",
    "\n",
    "agent.load_models()\n",
    "opponent = h_env.BasicOpponent()\n",
    "\n",
    "for i in range(test_games):\n",
    "    if render:\n",
    "        env.render() \n",
    "    observation, info = env.reset()\n",
    "    obs_opponent = env.obs_agent_two()\n",
    "    done = False\n",
    "    while not done:\n",
    "        if render:\n",
    "            env.render() \n",
    "        action1 = agent.act(observation)\n",
    "        action2 = opponent.act(obs_opponent)\n",
    "\n",
    "        observation, reward, done, _, info = env.step(np.hstack([action1,action2]))\n",
    "\n",
    "        obs_opponent = env.obs_agent_two()\n",
    "    if info['winner']==1:\n",
    "            wins+=1\n",
    "    elif info['winner']==-1:\n",
    "            losses+=1\n",
    "    else:\n",
    "        draws+=1\n",
    "        \n",
    "wins, losses, draws"
   ]
  }
 ],
 "metadata": {
  "kernelspec": {
   "display_name": "RL",
   "language": "python",
   "name": "python3"
  },
  "language_info": {
   "codemirror_mode": {
    "name": "ipython",
    "version": 3
   },
   "file_extension": ".py",
   "mimetype": "text/x-python",
   "name": "python",
   "nbconvert_exporter": "python",
   "pygments_lexer": "ipython3",
   "version": "3.8.16"
  },
  "orig_nbformat": 4
 },
 "nbformat": 4,
 "nbformat_minor": 2
}
