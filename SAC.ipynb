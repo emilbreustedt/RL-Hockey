{
 "cells": [
  {
   "cell_type": "markdown",
   "metadata": {},
   "source": [
    "# SAC"
   ]
  },
  {
   "cell_type": "markdown",
   "metadata": {},
   "source": [
    "This notebook trains and tests an SCA agent on the Laser Hockey Enviroment"
   ]
  },
  {
   "cell_type": "code",
   "execution_count": 1,
   "metadata": {},
   "outputs": [],
   "source": [
    "# Imports\n",
    "import numpy as np\n",
    "import laserhockey.hockey_env as h_env\n",
    "from importlib import reload\n",
    "from SAC import Agent\n",
    "import matplotlib.pyplot as plt"
   ]
  },
  {
   "cell_type": "code",
   "execution_count": 2,
   "metadata": {},
   "outputs": [],
   "source": [
    "# Global variables\n",
    "train_games = 10000 # 720/34min\n",
    "test_games = 100\n",
    "load_checkpoint = True\n",
    "train = False\n",
    "# render testing\n",
    "render = False"
   ]
  },
  {
   "cell_type": "code",
   "execution_count": 3,
   "metadata": {},
   "outputs": [
    {
     "name": "stderr",
     "output_type": "stream",
     "text": [
      "/Users/emilbreustedt/anaconda3/envs/RL/lib/python3.8/site-packages/gymnasium/envs/registration.py:693: UserWarning: \u001b[33mWARN: Overriding environment Hockey-v0 already in registry.\u001b[0m\n",
      "  logger.warn(f\"Overriding environment {new_spec.id} already in registry.\")\n",
      "/Users/emilbreustedt/anaconda3/envs/RL/lib/python3.8/site-packages/gymnasium/envs/registration.py:693: UserWarning: \u001b[33mWARN: Overriding environment Hockey-One-v0 already in registry.\u001b[0m\n",
      "  logger.warn(f\"Overriding environment {new_spec.id} already in registry.\")\n"
     ]
    }
   ],
   "source": [
    "# Initialization \n",
    "np.set_printoptions(suppress=True)\n",
    "reload(h_env)\n",
    "\n",
    "# get enviroment\n",
    "env = h_env.HockeyEnv(mode=h_env.HockeyEnv.NORMAL)\n",
    "\n",
    "#init agent\n",
    "agent = Agent(input_dims=env.observation_space.shape, \n",
    "              env=env,\n",
    "              lr = 0.0001,\n",
    "              gamma = 1,\n",
    "              reward_abs = True)\n",
    "\n",
    "# and oponent\n",
    "opponent = h_env.BasicOpponent(weak= False)"
   ]
  },
  {
   "cell_type": "code",
   "execution_count": 4,
   "metadata": {},
   "outputs": [],
   "source": [
    "# Plotting function\n",
    "def plot_learning_curve(x, scores, figure_file):\n",
    "    running_avg = np.zeros(len(scores))\n",
    "    for i in range(len(running_avg)):\n",
    "        running_avg[i] = np.mean(scores[max(0, i-100):(i+1)])\n",
    "    plt.plot(x, running_avg)\n",
    "    plt.xlabel(\"Episodes\")\n",
    "    plt.ylabel(\"Running average of previous 100 scores\")    \n",
    "    plt.savefig(figure_file)"
   ]
  },
  {
   "cell_type": "code",
   "execution_count": 5,
   "metadata": {},
   "outputs": [],
   "source": [
    "# Training of agent\n",
    "\n",
    "best_score = env.reward_range[0]\n",
    "score_history = []\n",
    "\n",
    "if train:\n",
    "    # continue from checkpoint\n",
    "    if load_checkpoint:\n",
    "        agent.load_models()\n",
    "\n",
    "    # train\n",
    "    for i in range(train_games):\n",
    "        observation, info = env.reset()\n",
    "        obs_opponent = env.obs_agent_two()\n",
    "\n",
    "        done = False\n",
    "        score = 0\n",
    "\n",
    "        while not done:\n",
    "            action1 = agent.act()\n",
    "            action2 = opponent.act(obs_opponent)\n",
    "            \n",
    "            observation_, reward, done, _, info = env.step(np.hstack([action1,action2]))\n",
    "            score += reward\n",
    "            agent.remember(observation, action1, reward, observation_, done)\n",
    "            \n",
    "            agent.learn()\n",
    "                \n",
    "            obs_opponent = env.obs_agent_two()\n",
    "            observation = observation_\n",
    "            \n",
    "        score_history.append(score)\n",
    "        avg_score = np.mean(score_history[-100:])\n",
    "        \n",
    "        # remember best model\n",
    "        if avg_score > best_score:\n",
    "            best_score = avg_score\n",
    "            agent.save_models()\n",
    "\n",
    "        print('episode ', i, 'score %.1f' % score, 'avg_score %.1f' % avg_score)\n",
    "\n",
    "    # plot\n",
    "    x = [i+1 for i in range(train_games)]\n",
    "    plot_learning_curve(x, score_history, '10000_abs_rewward.png')"
   ]
  },
  {
   "cell_type": "code",
   "execution_count": 6,
   "metadata": {},
   "outputs": [
    {
     "name": "stdout",
     "output_type": "stream",
     "text": [
      ".... loading models ....\n"
     ]
    },
    {
     "data": {
      "text/plain": [
       "(42, 23, 35)"
      ]
     },
     "execution_count": 6,
     "metadata": {},
     "output_type": "execute_result"
    }
   ],
   "source": [
    "# Testing\n",
    "\n",
    "wins = 0\n",
    "losses = 0\n",
    "draws = 0\n",
    "\n",
    "agent.load_models()\n",
    "opponent = h_env.BasicOpponent()\n",
    "\n",
    "for i in range(test_games):\n",
    "    if render:\n",
    "        env.render() \n",
    "    observation, info = env.reset()\n",
    "    obs_opponent = env.obs_agent_two()\n",
    "    done = False\n",
    "    while not done:\n",
    "        if render:\n",
    "            env.render() \n",
    "        action1 = agent.act(observation)\n",
    "        action2 = opponent.act(obs_opponent)\n",
    "\n",
    "        observation, reward, done, _, info = env.step(np.hstack([action1,action2]))\n",
    "\n",
    "        obs_opponent = env.obs_agent_two()\n",
    "    if info['winner']==1:\n",
    "            wins+=1\n",
    "    elif info['winner']==-1:\n",
    "            losses+=1\n",
    "    else:\n",
    "        draws+=1\n",
    "        \n",
    "wins, losses, draws"
   ]
  }
 ],
 "metadata": {
  "kernelspec": {
   "display_name": "RL",
   "language": "python",
   "name": "python3"
  },
  "language_info": {
   "codemirror_mode": {
    "name": "ipython",
    "version": 3
   },
   "file_extension": ".py",
   "mimetype": "text/x-python",
   "name": "python",
   "nbconvert_exporter": "python",
   "pygments_lexer": "ipython3",
   "version": "3.8.16"
  },
  "orig_nbformat": 4
 },
 "nbformat": 4,
 "nbformat_minor": 2
}
