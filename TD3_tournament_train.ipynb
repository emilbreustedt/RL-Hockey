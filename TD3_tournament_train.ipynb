{
 "cells": [
  {
   "cell_type": "code",
   "execution_count": 2,
   "id": "85693c1d-fda9-4efa-b06b-2578d56c4392",
   "metadata": {},
   "outputs": [],
   "source": [
    "import numpy as np\n",
    "import laserhockey.hockey_env as h_env\n",
    "import gymnasium as gym\n",
    "from importlib import reload\n",
    "from TD3_helpers import *\n",
    "import time\n",
    "import torch\n",
    "import DDPG\n",
    "import TD3\n",
    "import os\n",
    "import matplotlib.pyplot as plt\n",
    "from tqdm import tqdm\n",
    "import pickle"
   ]
  },
  {
   "cell_type": "code",
   "execution_count": 3,
   "id": "6dbbc5f6-94ae-489d-8662-6306232bb0fe",
   "metadata": {},
   "outputs": [],
   "source": [
    "start_config = {\n",
    "    \"name\" : \"name\",\n",
    "    \"agent_type\" : \"TD3\",\n",
    "    \"env_type\" : \"hockey\",\n",
    "    \"test\" : False,\n",
    "    \"render\" : False,\n",
    "    \"episodes\" : 1000,\n",
    "    \"max_steps\" : int(1e5),\n",
    "    \"mode\" : \"normal\",\n",
    "    \"eps\" : 0.1,\n",
    "    \"discount\":0.99,\n",
    "    \"update_target_every\":100,\n",
    "    \"update_policy_every\":2,\n",
    "    \"hidden_sizes_actor\" : [256,256],\n",
    "    \"hidden_sizes_critic\" : [256,256],\n",
    "    \"iter_fit\" : 1,\n",
    "    \"batch_size\" : 256,\n",
    "    \"smoothing_std\"  : 0.0001,\n",
    "    \"smoothing_clip\" : 0.0002,\n",
    "    \"checkpoint1\" : None,\n",
    "    \"checkpoint2\" : None,\n",
    "    \"learning_rate_critic\": 0.001,\n",
    "    \"learning_rate_actor\": 0.001,\n",
    "    \"buffer_size\" : int(1e5),\n",
    "    \"theta\" : 0.005,\n",
    "    \"prio_replay\" : False,\n",
    "    \"exp_phase\" : 1e3,\n",
    "    \"cdq\" : True,\n",
    "    \"ou\" : False,\n",
    "    \"retrain\" : False\n",
    "}"
   ]
  },
  {
   "cell_type": "code",
   "execution_count": null,
   "id": "b105fe15-0f2a-475c-8b18-697fd65e42fa",
   "metadata": {},
   "outputs": [],
   "source": [
    "### TD3** ###\n",
    "config = start_config.copy()\n",
    "\n",
    "config[\"name\"] = \"fixedactionscompare_more\"\n",
    "for ii in range(10):\n",
    "    print(ii)\n",
    "    config[\"retrain\"] = True\n",
    "    config[\"exp_phase\"] = int(1e4)\n",
    "    config[\"max_steps\"] = int(1e5)\n",
    "    config[\"learning_rate_critic\"] = 0.0001\n",
    "    config[\"learning_rate_actor\"] = 0.0001\n",
    "    config[\"mode\"] = \"weak\"\n",
    "    config[\"agent_type\"] = \"TD3\"\n",
    "    config[\"eps\"] = 0.0\n",
    "    config[\"checkpoint1\"] = f'./results/{config[\"agent_type\"]}_hockey_{config[\"name\"]}_{config[\"mode\"]}_agent.pth'\n",
    "    config[\"name\"] = f\"fixedactionscompare_retrain_lowlr_noeps{ii}\"\n",
    "    config[\"test\"] = False\n",
    "    init_train(config)\n",
    "    config[\"checkpoint1\"] = f'./results/{config[\"agent_type\"]}_hockey_{config[\"name\"]}_{config[\"mode\"]}_agent.pth'\n",
    "    config[\"test\"] = True\n",
    "    init_train(config)"
   ]
  }
 ],
 "metadata": {
  "kernelspec": {
   "display_name": "Python 3 (ipykernel)",
   "language": "python",
   "name": "python3"
  },
  "language_info": {
   "codemirror_mode": {
    "name": "ipython",
    "version": 3
   },
   "file_extension": ".py",
   "mimetype": "text/x-python",
   "name": "python",
   "nbconvert_exporter": "python",
   "pygments_lexer": "ipython3",
   "version": "3.9.17"
  }
 },
 "nbformat": 4,
 "nbformat_minor": 5
}
